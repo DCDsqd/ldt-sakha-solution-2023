{
 "cells": [
  {
   "cell_type": "code",
   "execution_count": 26,
   "metadata": {},
   "outputs": [],
   "source": [
    "import vk_api\n",
    "import sqlite3"
   ]
  },
  {
   "cell_type": "code",
   "execution_count": 27,
   "metadata": {},
   "outputs": [],
   "source": [
    "access_token = \"\""
   ]
  },
  {
   "cell_type": "code",
   "execution_count": 28,
   "metadata": {},
   "outputs": [],
   "source": [
    "def read_positions(db_path):\n",
    "    conn = sqlite3.connect(db_path)\n",
    "    cursor = conn.cursor()\n",
    "    cursor.execute(\"SELECT positions, name FROM data\")\n",
    "    professions_positions = [(row[1], position) for row in cursor.fetchall() for position in row[0].split(',')]\n",
    "    conn.close()\n",
    "    return professions_positions"
   ]
  },
  {
   "cell_type": "code",
   "execution_count": 29,
   "metadata": {},
   "outputs": [],
   "source": [
    "def search_users_by_job(vk_session, job, count=1000):\n",
    "    try:\n",
    "        search_results = vk_session.method('users.search', {\n",
    "            'company': job,\n",
    "            'count': count\n",
    "        })\n",
    "        return search_results['items']\n",
    "    except Exception as e:\n",
    "        print(f\"Ошибка при поиске: {e}\")\n",
    "        return []\n"
   ]
  },
  {
   "cell_type": "code",
   "execution_count": 30,
   "metadata": {},
   "outputs": [],
   "source": [
    "def get_user_groups(vk_session, user_id):\n",
    "    try:\n",
    "        groups = vk_session.method('groups.get', {'user_id': user_id})\n",
    "        return ','.join(map(str, groups['items']))\n",
    "    except Exception as e:\n",
    "        return ''"
   ]
  },
  {
   "cell_type": "code",
   "execution_count": 31,
   "metadata": {},
   "outputs": [],
   "source": [
    "def insert_user_data(db_path, user_id, profession, group_ids):\n",
    "    conn = sqlite3.connect(db_path)\n",
    "    cursor = conn.cursor()\n",
    "    cursor.execute(\"INSERT INTO users (user_id, profession, group_ids) VALUES (?, ?, ?)\", (user_id, profession, group_ids))\n",
    "    conn.commit()\n",
    "    conn.close()"
   ]
  },
  {
   "cell_type": "code",
   "execution_count": 32,
   "metadata": {},
   "outputs": [],
   "source": [
    "db_professions_path = \"../../data/professions.db\"\n",
    "db_users = \"../../data/users.db\""
   ]
  },
  {
   "cell_type": "code",
   "execution_count": 33,
   "metadata": {},
   "outputs": [],
   "source": [
    "def main():\n",
    "    vk_session = vk_api.VkApi(token=access_token)\n",
    "    db_professions_path = \"../../data/professions.db\"\n",
    "    db_users = \"../../data/users.db\"\n",
    "    professions = read_positions(db_professions_path)\n",
    "    for job in professions:\n",
    "        users = search_users_by_job(vk_session, job[1])\n",
    "        for user in users:\n",
    "            groups = get_user_groups(vk_session, user['id'])\n",
    "            if groups != \"\":\n",
    "                insert_user_data(db_users, user['id'], job[0], groups)"
   ]
  },
  {
   "cell_type": "code",
   "execution_count": 34,
   "metadata": {},
   "outputs": [],
   "source": [
    "if __name__ == '__main__':\n",
    "    main()"
   ]
  },
  {
   "cell_type": "code",
   "execution_count": null,
   "metadata": {},
   "outputs": [],
   "source": []
  }
 ],
 "metadata": {
  "kernelspec": {
   "display_name": "Python 3",
   "language": "python",
   "name": "python3"
  },
  "language_info": {
   "codemirror_mode": {
    "name": "ipython",
    "version": 3
   },
   "file_extension": ".py",
   "mimetype": "text/x-python",
   "name": "python",
   "nbconvert_exporter": "python",
   "pygments_lexer": "ipython3",
   "version": "3.11.5"
  }
 },
 "nbformat": 4,
 "nbformat_minor": 2
}
