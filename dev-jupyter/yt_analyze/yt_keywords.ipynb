{
 "cells": [
  {
   "cell_type": "code",
   "execution_count": null,
   "metadata": {},
   "outputs": [],
   "source": [
    "import nltk\n",
    "from nltk.corpus import stopwords\n",
    "from nltk.tokenize import word_tokenize, RegexpTokenizer\n",
    "\n",
    "# Список категорий и соответствующих им ключевых слов\n",
    "categories = {\n",
    "    'технологии': ['технология', 'программирование', 'ИТ', 'компьютеры'],\n",
    "    'образование': ['учеба', 'образование', 'знания', 'наука'],\n",
    "    'развлечения': ['развлечения', 'игры', 'юмор', 'кино'],\n",
    "    # Добавьте другие категории и ключевые слова по мере необходимости\n",
    "}\n",
    "\n",
    "# Функция для нормализации текста\n",
    "def normalize_text(text):\n",
    "    tokenizer = RegexpTokenizer(r'\\w+')\n",
    "    tokens = tokenizer.tokenize(text.lower())\n",
    "    stop_words = set(stopwords.words('english'))\n",
    "    stop_words += set(stopwords.words('russian'))\n",
    "    return [word for word in tokens if word not in stop_words]\n",
    "\n",
    "# Функция для определения категории\n",
    "def categorize_channel(description):\n",
    "    words = normalize_text(description)\n",
    "    category_scores = {category: 0 for category in categories}\n",
    "\n",
    "    for word in words:\n",
    "        for category, keywords in categories.items():\n",
    "            if word in keywords:\n",
    "                category_scores[category] += 1\n",
    "\n",
    "    # Сортировка категорий по количеству найденных ключевых слов\n",
    "    sorted_categories = sorted(category_scores, key=category_scores.get, reverse=True)\n",
    "    return sorted_categories[0] if sorted_categories else None\n",
    "\n",
    "# Пример использования\n",
    "description = \"Описание канала с ключевыми словами, связанными с технологиями...\"\n",
    "channel_category = categorize_channel(description)\n",
    "print(f\"Категория канала: {channel_category}\")\n"
   ]
  }
 ],
 "metadata": {
  "language_info": {
   "name": "python"
  }
 },
 "nbformat": 4,
 "nbformat_minor": 2
}
