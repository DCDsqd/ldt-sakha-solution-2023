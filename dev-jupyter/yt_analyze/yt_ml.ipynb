{
 "cells": [
  {
   "cell_type": "code",
   "execution_count": null,
   "metadata": {},
   "outputs": [],
   "source": [
    "import nltk\n",
    "from sklearn.model_selection import train_test_split\n",
    "from sklearn.feature_extraction.text import TfidfVectorizer\n",
    "from sklearn.naive_bayes import MultinomialNB\n",
    "from sklearn.metrics import classification_report\n",
    "from sklearn.pipeline import make_pipeline\n",
    "\n",
    "# Загрузка данных\n",
    "descriptions = [\"описание канала 1\", \"описание канала 2\", ...]\n",
    "categories = [\"категория1\", \"категория2\", ...]  # Соответствующие категории\n",
    "\n",
    "# Разделение данных на обучающую и тестовую выборки\n",
    "X_train, X_test, y_train, y_test = train_test_split(descriptions, categories, test_size=0.2, random_state=42)\n",
    "\n",
    "# Создание конвейера обработки данных и классификатора\n",
    "model = make_pipeline(TfidfVectorizer(), MultinomialNB())\n",
    "\n",
    "# Обучение модели\n",
    "model.fit(X_train, y_train)\n",
    "\n",
    "# Оценка модели\n",
    "predicted = model.predict(X_test)\n",
    "print(classification_report(y_test, predicted))\n"
   ]
  }
 ],
 "metadata": {
  "language_info": {
   "name": "python"
  }
 },
 "nbformat": 4,
 "nbformat_minor": 2
}
