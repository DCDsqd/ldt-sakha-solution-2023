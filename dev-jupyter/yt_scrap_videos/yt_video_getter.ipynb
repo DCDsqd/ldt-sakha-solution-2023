{
 "cells": [
  {
   "cell_type": "code",
   "execution_count": 121,
   "metadata": {},
   "outputs": [
    {
     "data": {
      "text/html": [
       "<div>\n",
       "<style scoped>\n",
       "    .dataframe tbody tr th:only-of-type {\n",
       "        vertical-align: middle;\n",
       "    }\n",
       "\n",
       "    .dataframe tbody tr th {\n",
       "        vertical-align: top;\n",
       "    }\n",
       "\n",
       "    .dataframe thead th {\n",
       "        text-align: right;\n",
       "    }\n",
       "</style>\n",
       "<table border=\"1\" class=\"dataframe\">\n",
       "  <thead>\n",
       "    <tr style=\"text-align: right;\">\n",
       "      <th></th>\n",
       "      <th>name</th>\n",
       "      <th>category</th>\n",
       "      <th>desc</th>\n",
       "      <th>profile_codes</th>\n",
       "      <th>keywords</th>\n",
       "      <th>keywords_extention</th>\n",
       "    </tr>\n",
       "  </thead>\n",
       "  <tbody>\n",
       "    <tr>\n",
       "      <th>0</th>\n",
       "      <td>Агроном</td>\n",
       "      <td>Агропромышленность</td>\n",
       "      <td>Выращивает ягоды, овощи, фрукты, грибы, кормов...</td>\n",
       "      <td>35.02.05 - Агрономия, 35.03.03 - Агрохимия и а...</td>\n",
       "      <td>агрономия, выращивание, растения, удобрения, п...</td>\n",
       "      <td>агрономия, выращивание, растения, удобрения, п...</td>\n",
       "    </tr>\n",
       "    <tr>\n",
       "      <th>1</th>\n",
       "      <td>Маркшейдер</td>\n",
       "      <td>Архитектура, строительство и недвижимость</td>\n",
       "      <td>Исследует месторождения полезных ископаемых, п...</td>\n",
       "      <td>05.03.01 - Геология, 21.05.04 - Горное дело, 2...</td>\n",
       "      <td>маркшейдер, геодезия, исследование месторожден...</td>\n",
       "      <td>маркшейдер, геодезия, исследование месторожден...</td>\n",
       "    </tr>\n",
       "    <tr>\n",
       "      <th>2</th>\n",
       "      <td>Реставратор</td>\n",
       "      <td>Архитектура, строительство и недвижимость</td>\n",
       "      <td>Восстанавливает старинные здания, сооружения и...</td>\n",
       "      <td>07.02.01 - Архитектура, 54.02.04 - Реставрация...</td>\n",
       "      <td>реставрация, реставратор, консервация искусств...</td>\n",
       "      <td>реставрация, реставратор, консервация искусств...</td>\n",
       "    </tr>\n",
       "    <tr>\n",
       "      <th>3</th>\n",
       "      <td>Слесарь по ремонту строительных машин</td>\n",
       "      <td>Архитектура, строительство и недвижимость</td>\n",
       "      <td>Ремонтирует строительную технику&lt;br&gt;&lt;br&gt;\\n🔧 Ре...</td>\n",
       "      <td>23.02.03 - Техническое обслуживание и ремонт а...</td>\n",
       "      <td>слесарь, ремонт строительных машин, техническо...</td>\n",
       "      <td>слесарь, ремонт строительных машин, техническо...</td>\n",
       "    </tr>\n",
       "    <tr>\n",
       "      <th>4</th>\n",
       "      <td>Монтажник санитарно-технических систем и обору...</td>\n",
       "      <td>Архитектура, строительство и недвижимость</td>\n",
       "      <td>Устанавливает и обслуживает системы водоснабже...</td>\n",
       "      <td>08.01.26 - Мастер по ремонту и обслуживанию ин...</td>\n",
       "      <td>монтажник, сантехника, водоснабжение, канализа...</td>\n",
       "      <td>монтажник, сантехника, водоснабжение, канализа...</td>\n",
       "    </tr>\n",
       "  </tbody>\n",
       "</table>\n",
       "</div>"
      ],
      "text/plain": [
       "                                                name  \\\n",
       "0                                            Агроном   \n",
       "1                                         Маркшейдер   \n",
       "2                                        Реставратор   \n",
       "3              Слесарь по ремонту строительных машин   \n",
       "4  Монтажник санитарно-технических систем и обору...   \n",
       "\n",
       "                                    category  \\\n",
       "0                         Агропромышленность   \n",
       "1  Архитектура, строительство и недвижимость   \n",
       "2  Архитектура, строительство и недвижимость   \n",
       "3  Архитектура, строительство и недвижимость   \n",
       "4  Архитектура, строительство и недвижимость   \n",
       "\n",
       "                                                desc  \\\n",
       "0  Выращивает ягоды, овощи, фрукты, грибы, кормов...   \n",
       "1  Исследует месторождения полезных ископаемых, п...   \n",
       "2  Восстанавливает старинные здания, сооружения и...   \n",
       "3  Ремонтирует строительную технику<br><br>\\n🔧 Ре...   \n",
       "4  Устанавливает и обслуживает системы водоснабже...   \n",
       "\n",
       "                                       profile_codes  \\\n",
       "0  35.02.05 - Агрономия, 35.03.03 - Агрохимия и а...   \n",
       "1  05.03.01 - Геология, 21.05.04 - Горное дело, 2...   \n",
       "2  07.02.01 - Архитектура, 54.02.04 - Реставрация...   \n",
       "3  23.02.03 - Техническое обслуживание и ремонт а...   \n",
       "4  08.01.26 - Мастер по ремонту и обслуживанию ин...   \n",
       "\n",
       "                                            keywords  \\\n",
       "0  агрономия, выращивание, растения, удобрения, п...   \n",
       "1  маркшейдер, геодезия, исследование месторожден...   \n",
       "2  реставрация, реставратор, консервация искусств...   \n",
       "3  слесарь, ремонт строительных машин, техническо...   \n",
       "4  монтажник, сантехника, водоснабжение, канализа...   \n",
       "\n",
       "                                  keywords_extention  \n",
       "0  агрономия, выращивание, растения, удобрения, п...  \n",
       "1  маркшейдер, геодезия, исследование месторожден...  \n",
       "2  реставрация, реставратор, консервация искусств...  \n",
       "3  слесарь, ремонт строительных машин, техническо...  \n",
       "4  монтажник, сантехника, водоснабжение, канализа...  "
      ]
     },
     "execution_count": 121,
     "metadata": {},
     "output_type": "execute_result"
    }
   ],
   "source": [
    "import sqlite3\n",
    "import pandas as pd\n",
    "\n",
    "conn = sqlite3.connect('labeled_videos.db')\n",
    "\n",
    "# Загружаем данные о категориях (допустим у вас уже есть DataFrame с категориями и ключевыми словами)\n",
    "conn = sqlite3.connect('../../data/professions.db')\n",
    "categories_df = pd.read_sql('SELECT * FROM data', conn)\n",
    "\n",
    "categories_df.head()"
   ]
  },
  {
   "cell_type": "code",
   "execution_count": 2,
   "metadata": {},
   "outputs": [
    {
     "ename": "ModuleNotFoundError",
     "evalue": "No module named 'google_auth_oauthlib'",
     "output_type": "error",
     "traceback": [
      "\u001b[1;31m---------------------------------------------------------------------------\u001b[0m",
      "\u001b[1;31mModuleNotFoundError\u001b[0m                       Traceback (most recent call last)",
      "Cell \u001b[1;32mIn[2], line 1\u001b[0m\n\u001b[1;32m----> 1\u001b[0m \u001b[38;5;28;01mimport\u001b[39;00m \u001b[38;5;21;01mgoogle_auth_oauthlib\u001b[39;00m\u001b[38;5;21;01m.\u001b[39;00m\u001b[38;5;21;01mflow\u001b[39;00m\n\u001b[0;32m      2\u001b[0m \u001b[38;5;28;01mimport\u001b[39;00m \u001b[38;5;21;01mgoogleapiclient\u001b[39;00m\u001b[38;5;21;01m.\u001b[39;00m\u001b[38;5;21;01mdiscovery\u001b[39;00m\n\u001b[0;32m      3\u001b[0m \u001b[38;5;28;01mimport\u001b[39;00m \u001b[38;5;21;01mgoogleapiclient\u001b[39;00m\u001b[38;5;21;01m.\u001b[39;00m\u001b[38;5;21;01merrors\u001b[39;00m\n",
      "\u001b[1;31mModuleNotFoundError\u001b[0m: No module named 'google_auth_oauthlib'"
     ]
    }
   ],
   "source": []
  },
  {
   "cell_type": "code",
   "execution_count": 124,
   "metadata": {},
   "outputs": [],
   "source": [
    "videos_df['category_matches'] = \"\"\n",
    "\n",
    "# Функция для подсчёта вхождений ключевых слов каждой категории\n",
    "def match_categories(row, categories_df):\n",
    "    category_matches = {}\n",
    "    # Объединяем title, tags и description с добавлением пробелов в начале и в конце\n",
    "    tags = row['tags'].replace('|', ' ').replace('\\\"', ' ')\n",
    "    combined_text = f\" {row['title']}  {tags}  {row['description']}  {row['channelTitle']} \"\n",
    "    for _, category_row in categories_df.iterrows():\n",
    "        category_name = category_row['name']\n",
    "        keywords = category_row['keywords_extention'].split(', ')\n",
    "        for keyword in keywords:\n",
    "            # Добавляем пробелы к каждому ключевому слову для точного поиска\n",
    "            keyword_with_spaces = \" \" + keyword.lower() + \" \"\n",
    "            matches = combined_text.count(keyword_with_spaces)\n",
    "        if matches > 0:\n",
    "            category_matches[category_name] = matches\n",
    "    return category_matches if category_matches else {'Unknown': 0}\n",
    "\n",
    "# Применяем функцию к каждой строке в DataFrame с видео\n",
    "videos_df['category_matches'] = videos_df.apply(lambda row: match_categories(row, categories_df), axis=1)"
   ]
  },
  {
   "cell_type": "code",
   "execution_count": 125,
   "metadata": {},
   "outputs": [],
   "source": [
    "# Создаем новые столбцы для категорий и количества вхождений\n",
    "videos_df['categories'] = \"\"\n",
    "videos_df['categories_cnt'] = \"\"\n",
    "\n",
    "for idx, row in videos_df.iterrows():\n",
    "    categories_str = \"\"\n",
    "    cnt_str = \"\"\n",
    "    category_matches = row['category_matches']\n",
    "    for category_name, count in category_matches.items():\n",
    "        categories_str += category_name + \",\"\n",
    "        cnt_str += str(count) + \",\"\n",
    "    # Обновляем DataFrame напрямую\n",
    "    videos_df.at[idx, 'categories'] = categories_str.rstrip(',')\n",
    "    videos_df.at[idx, 'categories_cnt'] = cnt_str.rstrip(',')\n",
    "\n",
    "videos_df = videos_df.drop(columns=['category_matches'])\n",
    "\n",
    "# Сохраняем результат\n",
    "conn = sqlite3.connect('prof_with_categories.db')\n",
    "videos_df.to_sql('data', conn, if_exists='replace', index=False)\n",
    "\n",
    "conn.close()  # Не забываем закрыть соединение с базой данных"
   ]
  },
  {
   "cell_type": "code",
   "execution_count": 126,
   "metadata": {},
   "outputs": [
    {
     "data": {
      "text/plain": [
       "8843"
      ]
     },
     "execution_count": 126,
     "metadata": {},
     "output_type": "execute_result"
    }
   ],
   "source": [
    "videos_df = videos_df[videos_df['categories'] != 'Unknown']\n",
    "len(videos_df)"
   ]
  },
  {
   "cell_type": "code",
   "execution_count": 127,
   "metadata": {},
   "outputs": [
    {
     "name": "stdout",
     "output_type": "stream",
     "text": [
      "Бизнес-аналитик: 5054\n",
      "Пресс-атташе: 2163\n",
      "Радиоинженер: 4482\n",
      "Грумер: 1826\n",
      "Шеф-повар: 92\n",
      "Звукооператор: 367\n",
      "Фармацевт: 141\n",
      "Швея-закройщица: 7\n",
      "Регулировщик радиоэлектронной аппаратуры и приборов: 3\n",
      "Врач: 18\n",
      "Гейм-дизайнер: 13\n",
      "Военнослужащий: 9\n",
      "Риелтор: 25\n"
     ]
    }
   ],
   "source": [
    "# Инициализация словаря для подсчета\n",
    "label_counts = {}\n",
    "\n",
    "# Итерация по DataFrame\n",
    "for idx, row in videos_df.iterrows():\n",
    "    # Разделяем строки на списки категорий и их количеств\n",
    "    categories_list = row['categories'].split(',')\n",
    "    counts_list = row['categories_cnt'].split(',')\n",
    "    \n",
    "    # Убеждаемся, что списки имеют одинаковую длину\n",
    "    if len(categories_list) == len(counts_list):\n",
    "        # Итерация по категориям и их количествам\n",
    "        for category, count in zip(categories_list, counts_list):\n",
    "            if category:  # Проверяем, не пустая ли строка\n",
    "                # Преобразуем count в число и добавляем к общему подсчету\n",
    "                label_counts[category] = label_counts.get(category, 0) + int(count)\n",
    "\n",
    "# Выводим результаты\n",
    "for label, count in label_counts.items():\n",
    "    print(f\"{label}: {count}\")\n"
   ]
  }
 ],
 "metadata": {
  "kernelspec": {
   "display_name": "Python 3",
   "language": "python",
   "name": "python3"
  },
  "language_info": {
   "codemirror_mode": {
    "name": "ipython",
    "version": 3
   },
   "file_extension": ".py",
   "mimetype": "text/x-python",
   "name": "python",
   "nbconvert_exporter": "python",
   "pygments_lexer": "ipython3",
   "version": "3.10.11"
  }
 },
 "nbformat": 4,
 "nbformat_minor": 2
}
